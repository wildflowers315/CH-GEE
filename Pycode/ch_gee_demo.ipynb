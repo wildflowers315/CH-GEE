{
 "cells": [
  {
   "cell_type": "markdown",
   "metadata": {
    "vscode": {
     "languageId": "plaintext"
    }
   },
   "source": [
    "# Demo for Canopy Height Mapping by GEE\n",
    "* Open from Google colabo"
   ]
  },
  {
   "cell_type": "code",
   "execution_count": null,
   "metadata": {},
   "outputs": [],
   "source": [
    "!git clone https://github.com/wildflowers315/CH-GEE"
   ]
  },
  {
   "cell_type": "code",
   "execution_count": null,
   "metadata": {},
   "outputs": [],
   "source": [
    "!pip install -r Pycode/requirements.txt"
   ]
  },
  {
   "cell_type": "code",
   "execution_count": null,
   "metadata": {},
   "outputs": [],
   "source": [
    "# Import required libraries\n",
    "import ee\n",
    "import geemap\n",
    "import os\n",
    "from datetime import datetime\n",
    "\n",
    "# Import CH-GEE modules\n",
    "from ch_gee_main import canopy_height_mapper\n",
    "from l2a_gedi_source import get_gedi_data\n",
    "from sentinel1_source import get_sentinel1_data\n",
    "from sentinel2_source import get_sentinel2_data\n",
    "from for_forest_masking import apply_forest_mask\n",
    "from random_sampling import create_training_data\n",
    "from for_upload_download import export_to_asset, export_to_drive, download_to_local"
   ]
  },
  {
   "cell_type": "code",
   "execution_count": null,
   "metadata": {},
   "outputs": [],
   "source": [
    "# Initialize Earth Engine\n",
    "try:\n",
    "    ee.Initialize()\n",
    "except:\n",
    "    ee.Authenticate()\n",
    "    ee.Initialize()"
   ]
  },
  {
   "cell_type": "markdown",
   "metadata": {},
   "source": [
    "## Define Area of Interest"
   ]
  },
  {
   "cell_type": "code",
   "execution_count": null,
   "metadata": {},
   "outputs": [],
   "source": [
    "Map = geemap.Map()\n",
    "Map\n",
    "# Draw a polygon on the map\n",
    "aoi = Map.draw_last_feature.geometry()"
   ]
  },
  {
   "cell_type": "markdown",
   "metadata": {
    "vscode": {
     "languageId": "plaintext"
    }
   },
   "source": [
    "## Set Parameters"
   ]
  },
  {
   "cell_type": "code",
   "execution_count": null,
   "metadata": {},
   "outputs": [],
   "source": [
    "# Set parameters\n",
    "year = 2022\n",
    "start_date = '01-01'\n",
    "end_date = '12-31'\n",
    "start_date_gedi = '2022-01-01'\n",
    "end_date_gedi = '2022-12-31'\n",
    "clouds_th = 0.2\n",
    "quantile = 'rh100'\n",
    "model = 'RF'\n",
    "mask = 'FNF'\n",
    "gedi_type = 'singleGEDI'\n",
    "\n",
    "# Random Forest parameters\n",
    "num_trees_rf = 100\n",
    "var_split_rf = 3\n",
    "min_leaf_pop_rf = 1\n",
    "bag_frac_rf = 0.5\n",
    "max_nodes_rf = None\n",
    "\n",
    "# GBM parameters\n",
    "num_trees_gbm = 100\n",
    "shr_gbm = 0.1\n",
    "sampling_rate_gbm = 0.8\n",
    "max_nodes_gbm = None\n",
    "loss_gbm = 'squared'\n",
    "\n",
    "# CART parameters\n",
    "max_nodes_cart = None\n",
    "min_leaf_pop_cart = 1"
   ]
  },
  {
   "cell_type": "markdown",
   "metadata": {},
   "source": [
    "## Run Canopy Height Mapping"
   ]
  },
  {
   "cell_type": "code",
   "execution_count": null,
   "metadata": {},
   "outputs": [],
   "source": [
    "# Run canopy height mapping\n",
    "classified = canopy_height_mapper(\n",
    "    aoi=aoi,\n",
    "    year=year,\n",
    "    start_date=start_date,\n",
    "    end_date=end_date,\n",
    "    start_date_gedi=start_date_gedi,\n",
    "    end_date_gedi=end_date_gedi,\n",
    "    clouds_th=clouds_th,\n",
    "    quantile=quantile,\n",
    "    model=model,\n",
    "    mask=mask,\n",
    "    gedi_type=gedi_type,\n",
    "    num_trees_rf=num_trees_rf,\n",
    "    var_split_rf=var_split_rf,\n",
    "    min_leaf_pop_rf=min_leaf_pop_rf,\n",
    "    bag_frac_rf=bag_frac_rf,\n",
    "    max_nodes_rf=max_nodes_rf,\n",
    "    num_trees_gbm=num_trees_gbm,\n",
    "    shr_gbm=shr_gbm,\n",
    "    sampling_rate_gbm=sampling_rate_gbm,\n",
    "    max_nodes_gbm=max_nodes_gbm,\n",
    "    loss_gbm=loss_gbm,\n",
    "    max_nodes_cart=max_nodes_cart,\n",
    "    min_leaf_pop_cart=min_leaf_pop_cart\n",
    ")"
   ]
  },
  {
   "cell_type": "markdown",
   "metadata": {},
   "source": [
    "## Visualize Results"
   ]
  },
  {
   "cell_type": "code",
   "execution_count": null,
   "metadata": {},
   "outputs": [],
   "source": [
    "# Add the classified image to the map\n",
    "Map.addLayer(classified, {'min': 0, 'max': 50, 'palette': ['white', 'green']}, 'Canopy Height')\n",
    "Map"
   ]
  },
  {
   "cell_type": "markdown",
   "metadata": {},
   "source": [
    "## Export Results"
   ]
  },
  {
   "cell_type": "code",
   "execution_count": null,
   "metadata": {},
   "outputs": [],
   "source": [
    "# Export to Earth Engine asset\n",
    "asset_id = f'users/YOUR_USERNAME/canopy_height_{datetime.now().strftime(\"%Y%m%d\")}'\n",
    "export_to_asset(classified, 'Canopy Height Map', asset_id)"
   ]
  },
  {
   "cell_type": "code",
   "execution_count": null,
   "metadata": {},
   "outputs": [],
   "source": [
    "# Export to Google Drive\n",
    "export_to_drive(\n",
    "    classified,\n",
    "    'Canopy Height Map',\n",
    "    'CH-GEE_Outputs',\n",
    "    f'canopy_height_{datetime.now().strftime(\"%Y%m%d\")}'\n",
    ")"
   ]
  },
  {
   "cell_type": "code",
   "execution_count": null,
   "metadata": {},
   "outputs": [],
   "source": [
    "# Download to local storage\n",
    "output_dir = 'outputs'\n",
    "file_name = f'canopy_height_{datetime.now().strftime(\"%Y%m%d\")}'\n",
    "download_to_local(classified, output_dir, file_name)"
   ]
  },
  {
   "cell_type": "code",
   "execution_count": null,
   "metadata": {},
   "outputs": [],
   "source": []
  },
  {
   "cell_type": "code",
   "execution_count": null,
   "metadata": {},
   "outputs": [],
   "source": []
  },
  {
   "cell_type": "markdown",
   "metadata": {},
   "source": []
  },
  {
   "cell_type": "markdown",
   "metadata": {},
   "source": []
  }
 ],
 "metadata": {
  "language_info": {
   "name": "python"
  }
 },
 "nbformat": 4,
 "nbformat_minor": 2
}
